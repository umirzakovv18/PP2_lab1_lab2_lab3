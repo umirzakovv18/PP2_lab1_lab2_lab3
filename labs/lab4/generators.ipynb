{
 "cells": [
  {
   "cell_type": "code",
   "execution_count": 4,
   "metadata": {},
   "outputs": [
    {
     "name": "stdout",
     "output_type": "stream",
     "text": [
      "1\n",
      "4\n",
      "9\n",
      "16\n",
      "25\n",
      "36\n",
      "49\n",
      "64\n",
      "81\n",
      "100\n"
     ]
    }
   ],
   "source": [
    "def square_generator(N):\n",
    "    for i in range(1, N + 1):\n",
    "        yield i ** 2\n",
    "\n",
    "# Example usage\n",
    "N = 10\n",
    "for square in square_generator(N):\n",
    "    print(square)\n"
   ]
  },
  {
   "cell_type": "code",
   "execution_count": 8,
   "metadata": {},
   "outputs": [
    {
     "name": "stdout",
     "output_type": "stream",
     "text": [
      "0,2,4,6,8,10\n"
     ]
    }
   ],
   "source": [
    "def even_num(n):\n",
    "    for i in range(0,n+1,2):\n",
    "        yield i\n",
    "        \n",
    "N = 10\n",
    "\n",
    "print(\",\".join(map(str, even_num(N))))\n"
   ]
  },
  {
   "cell_type": "code",
   "execution_count": 10,
   "metadata": {},
   "outputs": [
    {
     "name": "stdout",
     "output_type": "stream",
     "text": [
      "0,12,24\n"
     ]
    }
   ],
   "source": [
    "def third_ex(n):\n",
    "    for i in range(0,n+1):\n",
    "        if i%3==0 and i%4==0:\n",
    "            yield i\n",
    "            \n",
    "N = 25\n",
    "print(\",\".join(map(str, third_ex(N))))\n",
    "\n"
   ]
  },
  {
   "cell_type": "code",
   "execution_count": 14,
   "metadata": {},
   "outputs": [
    {
     "name": "stdout",
     "output_type": "stream",
     "text": [
      "25\n",
      "36\n",
      "49\n",
      "64\n",
      "81\n"
     ]
    }
   ],
   "source": [
    "def squares(a,b):\n",
    "    for i in range(a,b):\n",
    "        yield i ** 2\n",
    "        \n",
    "        \n",
    "a = int(input(\"Введите начальное число a: \"))\n",
    "b = int(input(\"Введите конечное число b: \"))\n",
    "        \n",
    "for square in squares(a, b):\n",
    "    print(square)"
   ]
  },
  {
   "cell_type": "code",
   "execution_count": 19,
   "metadata": {},
   "outputs": [
    {
     "name": "stdout",
     "output_type": "stream",
     "text": [
      "10\n",
      "9\n",
      "8\n",
      "7\n",
      "6\n",
      "5\n",
      "4\n",
      "3\n",
      "2\n",
      "1\n",
      "0\n"
     ]
    }
   ],
   "source": [
    "def fifth_ex(n):\n",
    "    for i in range(n,-1,-1):\n",
    "        yield i\n",
    "\n",
    "N = 10\n",
    "\n",
    "for num in fifth_ex(N):\n",
    "    print(num)\n",
    "        \n",
    "        "
   ]
  },
  {
   "cell_type": "code",
   "execution_count": null,
   "metadata": {},
   "outputs": [],
   "source": []
  }
 ],
 "metadata": {
  "kernelspec": {
   "display_name": "Python 3",
   "language": "python",
   "name": "python3"
  },
  "language_info": {
   "codemirror_mode": {
    "name": "ipython",
    "version": 3
   },
   "file_extension": ".py",
   "mimetype": "text/x-python",
   "name": "python",
   "nbconvert_exporter": "python",
   "pygments_lexer": "ipython3",
   "version": "3.11.5"
  }
 },
 "nbformat": 4,
 "nbformat_minor": 2
}
