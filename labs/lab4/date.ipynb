{
 "cells": [
  {
   "cell_type": "code",
   "execution_count": 10,
   "metadata": {},
   "outputs": [
    {
     "name": "stdout",
     "output_type": "stream",
     "text": [
      "2025-02-10\n"
     ]
    }
   ],
   "source": [
    "import datetime\n",
    "\n",
    "def first_ex():\n",
    "    current_date = datetime.date.today()\n",
    "    \n",
    "    new_date =  current_date - datetime.timedelta(days=5)\n",
    "    \n",
    "    return new_date\n",
    "    \n",
    "result_date = first_ex()\n",
    "\n",
    "print(result_date)"
   ]
  },
  {
   "cell_type": "code",
   "execution_count": 12,
   "metadata": {},
   "outputs": [
    {
     "name": "stdout",
     "output_type": "stream",
     "text": [
      "yesterday: 2025-02-14 ,  today: 2025-02-15, tomorrow: 2025-02-16\n"
     ]
    }
   ],
   "source": [
    "\n",
    "def second_ex():\n",
    "    current_date = datetime.date.today()\n",
    "\n",
    "    yesterday = current_date - datetime.timedelta(days=1)\n",
    "    \n",
    "    tomorrow = current_date + datetime.timedelta(days=1)\n",
    "    \n",
    "    print(f\"yesterday: {yesterday} ,  today: {current_date}, tomorrow: {tomorrow}\" )\n",
    "    \n",
    "    \n",
    "second_ex()"
   ]
  },
  {
   "cell_type": "code",
   "execution_count": 16,
   "metadata": {},
   "outputs": [
    {
     "name": "stdout",
     "output_type": "stream",
     "text": [
      "2025-02-15 15:05:47.218913\n",
      "2025-02-15 15:05:47\n"
     ]
    }
   ],
   "source": [
    "def third_ex():\n",
    "    current_date = datetime.datetime.now()\n",
    "    new_date = current_date.replace(microsecond=0)\n",
    "    \n",
    "    return new_date\n",
    "\n",
    "date = third_ex()\n",
    "print(datetime.datetime.now())\n",
    "print(date)"
   ]
  },
  {
   "cell_type": "code",
   "execution_count": 18,
   "metadata": {},
   "outputs": [
    {
     "name": "stdout",
     "output_type": "stream",
     "text": [
      "Разница между 2025-02-15 16:45:30 и 2025-02-10 14:30:00 составляет 440130.0 секунд.\n"
     ]
    }
   ],
   "source": [
    "import datetime  \n",
    "\n",
    "def date_difference_in_seconds(date1, date2):\n",
    "    delta = date2 - date1  \n",
    "    return delta.total_seconds() \n",
    "\n",
    "date1 = datetime.datetime(2025, 2, 10, 14, 30, 0)\n",
    "date2 = datetime.datetime(2025, 2, 15, 16, 45, 30)\n",
    "\n",
    "seconds_difference = date_difference_in_seconds(date1, date2)\n",
    "\n",
    "print(f\"Разница между {date2} и {date1} составляет {seconds_difference} секунд.\")\n"
   ]
  },
  {
   "cell_type": "code",
   "execution_count": null,
   "metadata": {},
   "outputs": [],
   "source": []
  }
 ],
 "metadata": {
  "kernelspec": {
   "display_name": "Python 3",
   "language": "python",
   "name": "python3"
  },
  "language_info": {
   "codemirror_mode": {
    "name": "ipython",
    "version": 3
   },
   "file_extension": ".py",
   "mimetype": "text/x-python",
   "name": "python",
   "nbconvert_exporter": "python",
   "pygments_lexer": "ipython3",
   "version": "3.11.5"
  }
 },
 "nbformat": 4,
 "nbformat_minor": 2
}
