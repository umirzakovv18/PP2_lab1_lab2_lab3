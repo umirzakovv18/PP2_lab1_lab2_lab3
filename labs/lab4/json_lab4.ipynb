{
 "cells": [
  {
   "cell_type": "code",
   "execution_count": 1,
   "metadata": {},
   "outputs": [
    {
     "name": "stdout",
     "output_type": "stream",
     "text": [
      "Interface Status\n",
      "================================================================================\n",
      "DN                                                 Description          Speed   MTU\n",
      "--------------------------------------------------------------------------------\n",
      "topology/pod-1/node-201/sys/phys-[eth1/33]                              inherit 9150\n",
      "topology/pod-1/node-201/sys/phys-[eth1/34]                              inherit 9150\n",
      "topology/pod-1/node-201/sys/phys-[eth1/35]                              inherit 9150\n",
      "topology/pod-1/node-201/sys/phys-[eth1/36]                              inherit 9150\n",
      "topology/pod-1/node-201/sys/phys-[eth1/1]                               inherit 9150\n",
      "topology/pod-1/node-201/sys/phys-[eth1/2]                               inherit 9150\n",
      "topology/pod-1/node-201/sys/phys-[eth1/3]                               inherit 9150\n",
      "topology/pod-1/node-201/sys/phys-[eth1/4]                               inherit 9150\n",
      "topology/pod-1/node-201/sys/phys-[eth1/5]                               inherit 9150\n",
      "topology/pod-1/node-201/sys/phys-[eth1/6]                               inherit 9150\n",
      "topology/pod-1/node-201/sys/phys-[eth1/7]                               inherit 9150\n",
      "topology/pod-1/node-201/sys/phys-[eth1/8]                               inherit 9150\n",
      "topology/pod-1/node-201/sys/phys-[eth1/9]                               inherit 9150\n",
      "topology/pod-1/node-201/sys/phys-[eth1/10]                              inherit 9150\n",
      "topology/pod-1/node-201/sys/phys-[eth1/11]                              inherit 9150\n",
      "topology/pod-1/node-201/sys/phys-[eth1/12]                              inherit 9150\n",
      "topology/pod-1/node-201/sys/phys-[eth1/13]                              inherit 9150\n",
      "topology/pod-1/node-201/sys/phys-[eth1/14]                              inherit 9150\n"
     ]
    }
   ],
   "source": [
    "import json\n",
    "\n",
    "with open(\"ex.json\", \"r\", encoding=\"utf-8\") as file:\n",
    "    data = json.load(file)\n",
    "\n",
    "interfaces = data[\"imdata\"] \n",
    "\n",
    "print(\"Interface Status\")\n",
    "print(\"=\" * 80)\n",
    "print(f\"{'DN':<50} {'Description':<20} {'Speed':<7} {'MTU'}\")\n",
    "print(\"-\" * 80)\n",
    "\n",
    "for item in interfaces:\n",
    "    interface = item.get(\"l1PhysIf\", {}).get(\"attributes\", {})\n",
    "    dn = interface.get(\"dn\", \"\")\n",
    "    description = interface.get(\"descr\", \"\") or \"\"\n",
    "    speed = interface.get(\"speed\", \"inherit\")\n",
    "    mtu = interface.get(\"mtu\", \"\")\n",
    "\n",
    "    print(f\"{dn:<50} {description:<20} {speed:<7} {mtu}\")\n",
    "\n"
   ]
  },
  {
   "cell_type": "code",
   "execution_count": null,
   "metadata": {},
   "outputs": [],
   "source": []
  }
 ],
 "metadata": {
  "kernelspec": {
   "display_name": "Python 3",
   "language": "python",
   "name": "python3"
  },
  "language_info": {
   "codemirror_mode": {
    "name": "ipython",
    "version": 3
   },
   "file_extension": ".py",
   "mimetype": "text/x-python",
   "name": "python",
   "nbconvert_exporter": "python",
   "pygments_lexer": "ipython3",
   "version": "3.11.5"
  }
 },
 "nbformat": 4,
 "nbformat_minor": 2
}
