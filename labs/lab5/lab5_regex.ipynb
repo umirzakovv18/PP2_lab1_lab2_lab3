{
 "cells": [
  {
   "cell_type": "code",
   "execution_count": 1,
   "metadata": {},
   "outputs": [
    {
     "name": "stdout",
     "output_type": "stream",
     "text": [
      "a: Match found!\n",
      "ab: Match found!\n",
      "abb: Match found!\n",
      "abbb: Match found!\n",
      "b: No match.\n",
      "ba: No match.\n",
      "abc: No match.\n"
     ]
    }
   ],
   "source": [
    "import re\n",
    "\n",
    "def match_string(text):\n",
    "    pattern = r\"ab*\"  \n",
    "    if re.fullmatch(pattern, text):\n",
    "        return \"Match found!\"\n",
    "    else:\n",
    "        return \"No match.\"\n",
    "\n",
    "# Test cases\n",
    "test_strings = [\"a\", \"ab\", \"abb\", \"abbb\", \"b\", \"ba\", \"abc\"]\n",
    "for s in test_strings:\n",
    "    print(f\"{s}: {match_string(s)}\")\n"
   ]
  },
  {
   "cell_type": "code",
   "execution_count": 6,
   "metadata": {},
   "outputs": [
    {
     "name": "stdout",
     "output_type": "stream",
     "text": [
      "a: No match.\n",
      "ab: No match.\n",
      "abb: Match found!\n",
      "abbb: Match found!\n",
      "abbbb: No match.\n",
      "b: No match.\n",
      "abbc: No match.\n"
     ]
    }
   ],
   "source": [
    "import re\n",
    "\n",
    "def match_string(text):\n",
    "    pattern = r\"ab{2,3}\"  # 'a' followed by 2 to 3 'b'\n",
    "    if re.fullmatch(pattern, text):\n",
    "        return \"Match found!\"\n",
    "    else:\n",
    "        return \"No match.\"\n",
    "\n",
    "# Test cases\n",
    "test_strings = [\"a\", \"ab\", \"abb\", \"abbb\", \"abbbb\", \"b\", \"abbc\"]\n",
    "for s in test_strings:\n",
    "    print(f\"{s}: {match_string(s)}\")\n"
   ]
  },
  {
   "cell_type": "code",
   "execution_count": 8,
   "metadata": {},
   "outputs": [
    {
     "name": "stdout",
     "output_type": "stream",
     "text": [
      "Hello World → ['Hello', 'World']\n",
      "Python is Fun → ['Python', 'Fun']\n",
      "abcDEf GHi → ['DEf', 'GHi']\n",
      "TEST test → []\n",
      "CamelCase Example → ['Camel', 'Case', 'Example']\n"
     ]
    }
   ],
   "source": [
    "def find_sequences(text):\n",
    "    pattern = r\"[A-Z][a-z]+\"\n",
    "    matches = re.findall(pattern,text)\n",
    "    return matches\n",
    "\n",
    "test_strings = [\n",
    "    \"Hello World\", \n",
    "    \"Python is Fun\", \n",
    "    \"abcDEf GHi\", \n",
    "    \"TEST test\", \n",
    "    \"CamelCase Example\"\n",
    "]\n",
    "\n",
    "for s in test_strings:\n",
    "    print(f\"{s} → {find_sequences(s)}\")"
   ]
  },
  {
   "cell_type": "code",
   "execution_count": 9,
   "metadata": {},
   "outputs": [
    {
     "name": "stdout",
     "output_type": "stream",
     "text": [
      "hello_world → ['hello_world']\n",
      "test_case example_test → ['test_case', 'example_test']\n",
      "Python_is_fun → []\n",
      "snake_case is common → ['snake_case']\n",
      "UPPER_CASE should not match → []\n"
     ]
    }
   ],
   "source": [
    "\n",
    "def find_sequences(text):\n",
    "    pattern = r\"\\b[a-z]+_[a-z]+\\b\"  \n",
    "    matches = re.findall(pattern, text)\n",
    "    return matches\n",
    "\n",
    "# Test cases\n",
    "test_strings = [\n",
    "    \"hello_world\", \n",
    "    \"test_case example_test\", \n",
    "    \"Python_is_fun\", \n",
    "    \"snake_case is common\", \n",
    "    \"UPPER_CASE should not match\"\n",
    "]\n",
    "\n",
    "for s in test_strings:\n",
    "    print(f\"{s} → {find_sequences(s)}\")"
   ]
  },
  {
   "cell_type": "code",
   "execution_count": 16,
   "metadata": {},
   "outputs": [
    {
     "name": "stdout",
     "output_type": "stream",
     "text": [
      "ab: ✅ Match\n",
      "acb: ✅ Match\n",
      "a123b: ✅ Match\n",
      "axyzb: ✅ Match\n",
      "a_b: ✅ Match\n",
      "b: ❌ No match\n",
      "abc: ❌ No match\n",
      "a123: ❌ No match\n"
     ]
    }
   ],
   "source": [
    "import re\n",
    "\n",
    "def match_string(text):\n",
    "    pattern = r\"^a.*b$\"  # 'a' followed by anything, ending in 'b'\n",
    "    return bool(re.fullmatch(pattern, text))  # Returns True/False\n",
    "\n",
    "# Test cases\n",
    "test_strings = [\"ab\", \"acb\", \"a123b\", \"axyzb\", \"a_b\", \"b\", \"abc\", \"a123\"]\n",
    "for s in test_strings:\n",
    "    result = \"✅ Match\" if match_string(s) else \"❌ No match\"\n",
    "    print(f\"{s}: {result}\")\n"
   ]
  },
  {
   "cell_type": "code",
   "execution_count": 7,
   "metadata": {},
   "outputs": [
    {
     "name": "stdout",
     "output_type": "stream",
     "text": [
      "Django:::Maikl:::Sem:Serega\n"
     ]
    }
   ],
   "source": [
    "\n",
    "def replace_characters(text):\n",
    "    return re.sub(r'[ .,]', ':', text)\n",
    "\n",
    "test1 = \"Django , Maikl . Sem Serega\"\n",
    "test2 = replace_characters(test_string)\n",
    "print(test2)"
   ]
  },
  {
   "cell_type": "code",
   "execution_count": 10,
   "metadata": {},
   "outputs": [
    {
     "name": "stdout",
     "output_type": "stream",
     "text": [
      "firstName\n"
     ]
    }
   ],
   "source": [
    "def snakeToCamel(text):\n",
    "    words = re.split(r'_',text)\n",
    "    \n",
    "    camel_str = words[0] + ''.join(word.capitalize() for word in words[1:])\n",
    "    \n",
    "    return camel_str\n",
    "\n",
    "snake_string = \"first_name\"\n",
    "camel_string = snakeToCamel(snake_string)\n",
    "print(camel_string)"
   ]
  },
  {
   "cell_type": "code",
   "execution_count": 12,
   "metadata": {},
   "outputs": [
    {
     "name": "stdout",
     "output_type": "stream",
     "text": [
      "['Hello', 'World']\n"
     ]
    }
   ],
   "source": [
    "def split_at_uppercase(text):\n",
    "    words = re.split(r\"([A-Z])\",text)\n",
    "    result = []\n",
    "    \n",
    "    for i in range(1,len(words,),2):\n",
    "        result.append(words[i]+words[i+1] if i+1 < len(words) else words[i])\n",
    "        \n",
    "        \n",
    "    if words[0]:\n",
    "        result.insert(0, words[0])\n",
    "    \n",
    "    return result\n",
    "\n",
    "print(split_at_uppercase(\"HelloWorld\"))\n",
    "    "
   ]
  },
  {
   "cell_type": "code",
   "execution_count": 13,
   "metadata": {},
   "outputs": [
    {
     "name": "stdout",
     "output_type": "stream",
     "text": [
      "Hello World Example\n"
     ]
    }
   ],
   "source": [
    "\n",
    "def insert_spaces(s):\n",
    "    spaced_str = re.sub(r'(?<!^)([A-Z])', r' \\1', s)\n",
    "    return spaced_str\n",
    "\n",
    "print(insert_spaces(\"HelloWorldExample\"))"
   ]
  },
  {
   "cell_type": "code",
   "execution_count": 1,
   "metadata": {},
   "outputs": [
    {
     "name": "stdout",
     "output_type": "stream",
     "text": [
      "hello_world_this_is_python\n"
     ]
    }
   ],
   "source": [
    "import re\n",
    "\n",
    "def camel_to_snake(s):\n",
    "    return re.sub(r'([a-z])([A-Z])', r'\\1_\\2', s).lower()\n",
    "\n",
    "camel_case_string = \"helloWorldThisIsPython\"\n",
    "snake_case_string = camel_to_snake(camel_case_string)\n",
    "print(snake_case_string)"
   ]
  },
  {
   "cell_type": "code",
   "execution_count": null,
   "metadata": {},
   "outputs": [],
   "source": []
  }
 ],
 "metadata": {
  "kernelspec": {
   "display_name": "Python 3",
   "language": "python",
   "name": "python3"
  },
  "language_info": {
   "codemirror_mode": {
    "name": "ipython",
    "version": 3
   },
   "file_extension": ".py",
   "mimetype": "text/x-python",
   "name": "python",
   "nbconvert_exporter": "python",
   "pygments_lexer": "ipython3",
   "version": "3.11.5"
  }
 },
 "nbformat": 4,
 "nbformat_minor": 2
}
