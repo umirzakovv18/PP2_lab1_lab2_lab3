{
 "cells": [
  {
   "cell_type": "code",
   "execution_count": 1,
   "metadata": {},
   "outputs": [
    {
     "name": "stdout",
     "output_type": "stream",
     "text": [
      "566.990462\n"
     ]
    }
   ],
   "source": [
    "def GrammToOunce(gramm):\n",
    "    return 28.3495231*gramm\n",
    "\n",
    "print(GrammToOunce(20))"
   ]
  },
  {
   "cell_type": "code",
   "execution_count": 3,
   "metadata": {},
   "outputs": [
    {
     "name": "stdout",
     "output_type": "stream",
     "text": [
      "-6.666666666666667\n"
     ]
    }
   ],
   "source": [
    "def FtoC(F):\n",
    "    return (5 / 9) * (F - 32)\n",
    "\n",
    "print(FtoC(20))"
   ]
  },
  {
   "cell_type": "code",
   "execution_count": 9,
   "metadata": {},
   "outputs": [
    {
     "name": "stdout",
     "output_type": "stream",
     "text": [
      "chikens: 23  and rabbits: 12\n"
     ]
    }
   ],
   "source": [
    "def solve(numheads,numlegs):\n",
    "    chickens = (numlegs - 4*numheads)//-2\n",
    "    rabbits = (numlegs-2*numheads)//2\n",
    "    print(\"chikens:\" ,chickens,\" and rabbits:\", rabbits)\n",
    "\n",
    "solve(35,94)"
   ]
  },
  {
   "cell_type": "code",
   "execution_count": 13,
   "metadata": {},
   "outputs": [
    {
     "name": "stdout",
     "output_type": "stream",
     "text": [
      "Prime numbers:  [5, 7, 11]\n"
     ]
    }
   ],
   "source": [
    "def is_prime(n):\n",
    "    if n < 2:\n",
    "        return False\n",
    "    for i in range(2,int(n**0.5)+1):\n",
    "        if n%i==0:\n",
    "            return False\n",
    "        else:\n",
    "            return True\n",
    "        \n",
    "def filter_prime(numbers):\n",
    "    return [num for num in numbers if is_prime(num)]\n",
    "\n",
    "nums = list(map(int,input(\"Enter numbers: \").split()))\n",
    "print(\"Prime numbers: \",filter_prime(nums))"
   ]
  },
  {
   "cell_type": "code",
   "execution_count": 1,
   "metadata": {},
   "outputs": [
    {
     "name": "stdout",
     "output_type": "stream",
     "text": [
      "abc\n",
      "acb\n",
      "bac\n",
      "bca\n",
      "cab\n",
      "cba\n"
     ]
    }
   ],
   "source": [
    "def permute(s, answer=\"\"):\n",
    "    if len(s) == 0:\n",
    "        print(answer)\n",
    "        return\n",
    "    for i in range(len(s)):\n",
    "        char = s[i]\n",
    "        remaining = s[:i] + s[i+1:]  \n",
    "        permute(remaining, answer + char)  \n",
    "\n",
    "\n",
    "user_input = input(\"Enter a string: \")\n",
    "permute(user_input)\n"
   ]
  },
  {
   "cell_type": "code",
   "execution_count": null,
   "metadata": {},
   "outputs": [
    {
     "name": "stdout",
     "output_type": "stream",
     "text": [
      "wporld hello\n"
     ]
    }
   ],
   "source": [
    "def reverse_sentence(sentence):\n",
    "    words = sentence.split()\n",
    "    reversed_words = ' '.join(reversed(words))\n",
    "    return reversed_words\n",
    "\n",
    "\n",
    "user_input = input()\n",
    "reversed_sentence = reverse_sentence(user_input)\n",
    "print(reversed_sentence)\n"
   ]
  },
  {
   "cell_type": "code",
   "execution_count": 4,
   "metadata": {},
   "outputs": [
    {
     "name": "stdout",
     "output_type": "stream",
     "text": [
      "True\n",
      "False\n",
      "False\n"
     ]
    }
   ],
   "source": [
    "def has_33(nums):\n",
    "    for i in range(len(nums) - 1):\n",
    "        if nums[i] == 3 and nums[i + 1] == 3:\n",
    "            return True\n",
    "    return False\n",
    "\n",
    "\n",
    "print(has_33([1, 3, 3]))  \n",
    "print(has_33([1, 3, 1, 3]))  \n",
    "print(has_33([3, 1, 3]))  \n"
   ]
  },
  {
   "cell_type": "code",
   "execution_count": 5,
   "metadata": {},
   "outputs": [
    {
     "name": "stdout",
     "output_type": "stream",
     "text": [
      "True\n",
      "True\n",
      "False\n"
     ]
    }
   ],
   "source": [
    "def spy_game(nums):\n",
    "    code = [0, 0, 7]\n",
    "    code_index = 0\n",
    "    \n",
    "    for num in nums:\n",
    "        if num == code[code_index]:\n",
    "            code_index += 1\n",
    "        if code_index == len(code):\n",
    "            return True\n",
    "    return False\n",
    "\n",
    "print(spy_game([1, 2, 4, 0, 0, 7, 5]))  \n",
    "print(spy_game([1, 0, 2, 4, 0, 5, 7]))  \n",
    "print(spy_game([1, 7, 2, 0, 4, 5, 0])) \n"
   ]
  },
  {
   "cell_type": "code",
   "execution_count": 7,
   "metadata": {},
   "outputs": [
    {
     "name": "stdout",
     "output_type": "stream",
     "text": [
      "The volume of a sphere with radius 5 is 523.60\n"
     ]
    }
   ],
   "source": [
    "import math\n",
    "\n",
    "def sphere_volume(radius):\n",
    "    return (4/3) * math.pi * (radius ** 3)\n",
    "\n",
    "radius = int(input())\n",
    "volume = sphere_volume(radius)\n",
    "print(f\"The volume of a sphere with radius {radius} is {volume:.2f}\")\n"
   ]
  },
  {
   "cell_type": "code",
   "execution_count": 8,
   "metadata": {},
   "outputs": [
    {
     "name": "stdout",
     "output_type": "stream",
     "text": [
      "[1, 2, 3, 4, 5]\n"
     ]
    }
   ],
   "source": [
    "def unique_elements(lst):\n",
    "    unique_lst = []\n",
    "    for item in lst:\n",
    "        if item not in unique_lst:\n",
    "            unique_lst.append(item)\n",
    "    return unique_lst\n",
    "\n",
    "input_list = [1, 2, 2, 3, 4, 4, 5]\n",
    "unique_list = unique_elements(input_list)\n",
    "print(unique_list)  \n"
   ]
  },
  {
   "cell_type": "code",
   "execution_count": 9,
   "metadata": {},
   "outputs": [
    {
     "name": "stdout",
     "output_type": "stream",
     "text": [
      "True\n",
      "True\n",
      "True\n"
     ]
    }
   ],
   "source": [
    "def is_palindrome(s):\n",
    "    cleaned_s = ''.join(char.lower() for char in s if char.isalnum())\n",
    "    \n",
    "    return cleaned_s == cleaned_s[::-1]\n",
    "\n",
    "word1 = \"madam\"\n",
    "word2 = \"racecar\"\n",
    "phrase = \"A man, a plan, a canal, Panama\"\n",
    "\n",
    "print(is_palindrome(word1)) \n",
    "print(is_palindrome(word2))  \n",
    "print(is_palindrome(phrase))  \n"
   ]
  },
  {
   "cell_type": "code",
   "execution_count": 10,
   "metadata": {},
   "outputs": [
    {
     "name": "stdout",
     "output_type": "stream",
     "text": [
      "*****\n",
      "*********\n",
      "*******\n",
      "******\n"
     ]
    }
   ],
   "source": [
    "def histogram(int_list):\n",
    "    for num in int_list:\n",
    "        print('*' * num)\n",
    "\n",
    "\n",
    "histogram([5, 9, 7, 6])\n"
   ]
  },
  {
   "cell_type": "code",
   "execution_count": 11,
   "metadata": {},
   "outputs": [
    {
     "name": "stdout",
     "output_type": "stream",
     "text": [
      "Hello! What is your name?\n",
      "\n",
      "Well, KBTU, I am thinking of a number between 1 and 20.\n",
      "\n",
      "Take a guess.\n",
      "Your guess is too low.\n",
      "\n",
      "Take a guess.\n",
      "Your guess is too low.\n",
      "\n",
      "Take a guess.\n",
      "Your guess is too low.\n",
      "\n",
      "Take a guess.\n",
      "Your guess is too low.\n",
      "\n",
      "Take a guess.\n",
      "Your guess is too low.\n",
      "\n",
      "Take a guess.\n",
      "Your guess is too low.\n",
      "\n",
      "Take a guess.\n",
      "Your guess is too low.\n",
      "\n",
      "Take a guess.\n",
      "Your guess is too low.\n",
      "\n",
      "Take a guess.\n",
      "Your guess is too low.\n",
      "\n",
      "Take a guess.\n",
      "Your guess is too low.\n",
      "\n",
      "Take a guess.\n",
      "Your guess is too low.\n",
      "\n",
      "Take a guess.\n",
      "Good job, KBTU! You guessed my number in 12 guesses!\n"
     ]
    }
   ],
   "source": [
    "import random\n",
    "\n",
    "def guess_the_number():\n",
    "    print(\"Hello! What is your name?\")\n",
    "    name = input()\n",
    "\n",
    "    print(f\"\\nWell, {name}, I am thinking of a number between 1 and 20.\")\n",
    "\n",
    "    number_to_guess = random.randint(1, 20)\n",
    "    guesses_taken = 0\n",
    "\n",
    "    while True:\n",
    "        print(\"\\nTake a guess.\")\n",
    "        guess = int(input())\n",
    "        guesses_taken += 1\n",
    "\n",
    "        if guess < number_to_guess:\n",
    "            print(\"Your guess is too low.\")\n",
    "        elif guess > number_to_guess:\n",
    "            print(\"Your guess is too high.\")\n",
    "        else:\n",
    "            print(f\"Good job, {name}! You guessed my number in {guesses_taken} guesses!\")\n",
    "            break\n",
    "\n",
    "guess_the_number()\n"
   ]
  },
  {
   "cell_type": "code",
   "execution_count": 13,
   "metadata": {},
   "outputs": [
    {
     "name": "stdout",
     "output_type": "stream",
     "text": [
      "Количество палиндромов в списке: 4\n"
     ]
    }
   ],
   "source": [
    "def count_palindromes(lst):\n",
    "    def is_palindrome(s):\n",
    "        cleaned_s = ''.join(char.lower() for char in s if char.isalnum())\n",
    "        return cleaned_s == cleaned_s[::-1]\n",
    "\n",
    "    count = 0\n",
    "    for item in lst:\n",
    "        if is_palindrome(str(item)):\n",
    "            count += 1\n",
    "    return count\n",
    "\n",
    "input_list = ['madam', 'racecar', 'hello', 'level', 'world', 'refer']\n",
    "palindrome_count = count_palindromes(input_list)\n",
    "print(f\"Количество палиндромов в списке: {palindrome_count}\")\n"
   ]
  },
  {
   "cell_type": "code",
   "execution_count": null,
   "metadata": {},
   "outputs": [],
   "source": []
  }
 ],
 "metadata": {
  "kernelspec": {
   "display_name": "Python 3",
   "language": "python",
   "name": "python3"
  },
  "language_info": {
   "codemirror_mode": {
    "name": "ipython",
    "version": 3
   },
   "file_extension": ".py",
   "mimetype": "text/x-python",
   "name": "python",
   "nbconvert_exporter": "python",
   "pygments_lexer": "ipython3",
   "version": "3.11.5"
  }
 },
 "nbformat": 4,
 "nbformat_minor": 2
}
