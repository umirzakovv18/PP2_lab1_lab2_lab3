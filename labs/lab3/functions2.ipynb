{
 "cells": [
  {
   "cell_type": "code",
   "execution_count": null,
   "metadata": {},
   "outputs": [],
   "source": [
    "movies = [\n",
    "    {\n",
    "        \"name\": \"Usual Suspects\", \n",
    "        \"imdb\": 7.0,\n",
    "        \"category\": \"Thriller\"\n",
    "    },\n",
    "    {\n",
    "        \"name\": \"Hitman\",\n",
    "        \"imdb\": 6.3,\n",
    "        \"category\": \"Action\"\n",
    "    },\n",
    "    {\n",
    "        \"name\": \"Dark Knight\",\n",
    "        \"imdb\": 9.0,\n",
    "        \"category\": \"Adventure\"\n",
    "    },\n",
    "    {\n",
    "        \"name\": \"The Help\",\n",
    "        \"imdb\": 8.0,\n",
    "        \"category\": \"Drama\"\n",
    "    },\n",
    "    {\n",
    "        \"name\": \"The Choice\",\n",
    "        \"imdb\": 6.2,\n",
    "        \"category\": \"Romance\"\n",
    "    },\n",
    "    {\n",
    "        \"name\": \"Colonia\",\n",
    "        \"imdb\": 7.4,\n",
    "        \"category\": \"Romance\"\n",
    "    },\n",
    "    {\n",
    "        \"name\": \"Love\",\n",
    "        \"imdb\": 6.0,\n",
    "        \"category\": \"Romance\"\n",
    "    },\n",
    "    {\n",
    "        \"name\": \"Bride Wars\",\n",
    "        \"imdb\": 5.4,\n",
    "        \"category\": \"Romance\"\n",
    "    },\n",
    "    {\n",
    "        \"name\": \"AlphaJet\",\n",
    "        \"imdb\": 3.2,\n",
    "        \"category\": \"War\"\n",
    "    },\n",
    "    {\n",
    "        \"name\": \"Ringing Crime\",\n",
    "        \"imdb\": 4.0,\n",
    "        \"category\": \"Crime\"\n",
    "    },\n",
    "    {\n",
    "        \"name\": \"Joking muck\",\n",
    "        \"imdb\": 7.2,\n",
    "        \"category\": \"Comedy\"\n",
    "    },\n",
    "    {\n",
    "        \"name\": \"What is the name\",\n",
    "        \"imdb\": 9.2,\n",
    "        \"category\": \"Suspense\"\n",
    "    },\n",
    "    {\n",
    "        \"name\": \"Detective\",\n",
    "        \"imdb\": 7.0,\n",
    "        \"category\": \"Suspense\"\n",
    "    },\n",
    "    {\n",
    "        \"name\": \"Exam\",\n",
    "        \"imdb\": 4.2,\n",
    "        \"category\": \"Thriller\"\n",
    "    },\n",
    "    {\n",
    "        \"name\": \"We Two\",\n",
    "        \"imdb\": 7.2,\n",
    "        \"category\": \"Romance\"\n",
    "    }\n",
    "]\n",
    "\n",
    "def is_high_rated_movie(movie):\n",
    "    return movie.get('imdb', 0) > 5.5\n",
    "\n",
    "for movie in movies:\n",
    "    if is_high_rated_movie(movie):\n",
    "        print(f\"Фильм '{movie['name']}' имеет высокий рейтинг IMDB: {movie['imdb']}\")\n",
    "    else:\n",
    "        print(f\"Фильм '{movie['name']}' имеет низкий рейтинг IMDB: {movie['imdb']}\")\n",
    "\n"
   ]
  },
  {
   "cell_type": "code",
   "execution_count": 8,
   "metadata": {},
   "outputs": [
    {
     "name": "stdout",
     "output_type": "stream",
     "text": [
      "The Choice\n",
      "Colonia\n",
      "Love\n",
      "Bride Wars\n",
      "We Two\n"
     ]
    }
   ],
   "source": [
    "def get_movies_by_category(category_name):\n",
    "    return [movie for movie in movies if movie[\"category\"] == category_name]\n",
    "\n",
    "category_name = \"Romance\"\n",
    "romance_movies = get_movies_by_category(category_name)\n",
    "for movie in romance_movies:\n",
    "    print(movie[\"name\"])"
   ]
  },
  {
   "cell_type": "code",
   "execution_count": 7,
   "metadata": {},
   "outputs": [
    {
     "name": "stdout",
     "output_type": "stream",
     "text": [
      "Average IMDB score: 6.486666666666667\n"
     ]
    }
   ],
   "source": [
    "def compute_average_imdb(movies):\n",
    "    if not movies:\n",
    "        return 0\n",
    "    total_score = sum(movie[\"imdb\"] for movie in movies)\n",
    "    return total_score / len(movies)\n",
    "\n",
    "average_imdb_score = compute_average_imdb(movies)\n",
    "print(f\"Average IMDB score: {average_imdb_score}\")"
   ]
  },
  {
   "cell_type": "code",
   "execution_count": 6,
   "metadata": {},
   "outputs": [
    {
     "name": "stdout",
     "output_type": "stream",
     "text": [
      "Average IMDB score for Romance movies: 6.44\n"
     ]
    }
   ],
   "source": [
    "def average_imdb_by_category(category_name):\n",
    "    category_movies = [movie for movie in movies if movie[\"category\"] == category_name]\n",
    "    if not category_movies:\n",
    "        return 0\n",
    "    total_score = sum(movie[\"imdb\"] for movie in category_movies)\n",
    "    return total_score / len(category_movies)\n",
    "\n",
    "category_name = \"Romance\"\n",
    "average_romance_score = average_imdb_by_category(category_name)\n",
    "print(f\"Average IMDB score for {category_name} movies: {average_romance_score}\")"
   ]
  },
  {
   "cell_type": "code",
   "execution_count": null,
   "metadata": {},
   "outputs": [],
   "source": []
  }
 ],
 "metadata": {
  "kernelspec": {
   "display_name": "Python 3",
   "language": "python",
   "name": "python3"
  },
  "language_info": {
   "codemirror_mode": {
    "name": "ipython",
    "version": 3
   },
   "file_extension": ".py",
   "mimetype": "text/x-python",
   "name": "python",
   "nbconvert_exporter": "python",
   "pygments_lexer": "ipython3",
   "version": "3.11.5"
  }
 },
 "nbformat": 4,
 "nbformat_minor": 2
}
