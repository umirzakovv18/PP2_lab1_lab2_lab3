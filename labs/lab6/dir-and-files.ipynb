{
 "cells": [
  {
   "cell_type": "code",
   "execution_count": 1,
   "metadata": {},
   "outputs": [
    {
     "name": "stdout",
     "output_type": "stream",
     "text": [
      "\n",
      "Only Directories: \n",
      "['.git', 'labs']\n",
      "\n",
      "Only files: \n",
      "['README.md']\n",
      "\n",
      "All files and directories: \n",
      "['.git', 'labs', 'README.md']\n"
     ]
    }
   ],
   "source": [
    "import os\n",
    "\n",
    "def list_directories(path):\n",
    "    return [d for d in os.listdir(path) if os.path.isdir(os.path.join(path, d))]\n",
    "\n",
    "def list_files(path):\n",
    "    return [f for f in os.listdir(path) if os.path.isfile(os.path.join(path, f))]\n",
    "\n",
    "def list_all(path):\n",
    "    return os.listdir(path)\n",
    "\n",
    "path = input(\"Enter your path to directory: \")\n",
    "\n",
    "if os.path.exists(path) and os.path.isdir(path):\n",
    "    print(\"\\nOnly Directories: \")\n",
    "    print(list_directories(path))\n",
    "\n",
    "    print(\"\\nOnly files: \")\n",
    "    print(list_files(path))\n",
    "\n",
    "    print(\"\\nAll files and directories: \")\n",
    "    print(list_all(path))\n",
    "else:\n",
    "    print(\"this path does not exist or is not directory\")"
   ]
  },
  {
   "cell_type": "code",
   "execution_count": 2,
   "metadata": {},
   "outputs": [
    {
     "name": "stdout",
     "output_type": "stream",
     "text": [
      "Checking access for: C:\\Users\\ayatj\\OneDrive\\Desktop\\PP\n",
      "\n",
      "The path exists\n",
      "The path is readable\n",
      "The path is writable\n",
      "The path is executable\n"
     ]
    }
   ],
   "source": [
    "def check_path_access(path):\n",
    "    \n",
    "    print(f\"Checking access for: {path}\\n\")\n",
    "    \n",
    "    if os.path.exists(path):\n",
    "        print(\"The path exists\")\n",
    "    else:\n",
    "        print(\"The path does not exist\")\n",
    "        return\n",
    "    \n",
    "    if os.access(path,os.R_OK):\n",
    "        print(\"The path is readable\")\n",
    "    else :\n",
    "        print(\"The path is not readable\")\n",
    "    \n",
    "    if os.access(path,os.W_OK):\n",
    "        print(\"The path is writable\")\n",
    "    else :\n",
    "        print(\"The path is not writable\")\n",
    "    \n",
    "    if os.access(path,os.X_OK):\n",
    "        print(\"The path is executable\")\n",
    "    else :\n",
    "        print(\"The path is not executable\")\n",
    "\n",
    "path = input(\"Input your path to check: \")\n",
    "check_path_access(path)"
   ]
  },
  {
   "cell_type": "code",
   "execution_count": 3,
   "metadata": {},
   "outputs": [
    {
     "name": "stdout",
     "output_type": "stream",
     "text": [
      "Checking access for : C:\\Users\\ayatj\\OneDrive\\Desktop\\PP\\labs\n",
      "\n",
      "The path exits\n",
      "file name: labs\n",
      "directory name: C:\\Users\\ayatj\\OneDrive\\Desktop\\PP\n"
     ]
    }
   ],
   "source": [
    "def check_path_for_existence(path):\n",
    "    \n",
    "    print(f\"Checking access for : {path}\\n\")\n",
    "    \n",
    "    if os.path.exists(path):\n",
    "        print(\"The path exits\")\n",
    "        \n",
    "        filename = os.path.basename(path)\n",
    "        print(f\"file name: {filename}\")\n",
    "        \n",
    "        directory = os.path.dirname(path)\n",
    "        print(f\"directory name: {directory}\")\n",
    "    \n",
    "    else:\n",
    "        print(\"The path does not exist!\")\n",
    "path = input(\"Enter your path for checking: \")\n",
    "check_path_for_existence(path)\n",
    "        "
   ]
  },
  {
   "cell_type": "code",
   "execution_count": 7,
   "metadata": {},
   "outputs": [
    {
     "name": "stdout",
     "output_type": "stream",
     "text": [
      "the number of lines in a text file: 3\n"
     ]
    }
   ],
   "source": [
    "def count_lines(filename):\n",
    "    try:\n",
    "        with open(filename,'r') as file:\n",
    "            lines = file.readlines()\n",
    "            return len(lines)\n",
    "    except FileNotFoundError:\n",
    "        print(\"Error: File not found!\")\n",
    "        return None\n",
    "    except Exception as e:\n",
    "        print(f\"Error: {e}\")\n",
    "        return None\n",
    "filename = input(\"Enter your path: \")\n",
    "line_count = count_lines(filename)\n",
    "\n",
    "if line_count is not None:\n",
    "    \n",
    "    print(f\"the number of lines in a text file: {line_count}\")"
   ]
  },
  {
   "cell_type": "code",
   "execution_count": 9,
   "metadata": {},
   "outputs": [
    {
     "name": "stdout",
     "output_type": "stream",
     "text": [
      "data was successfully written to the output_for_5.txt\n"
     ]
    }
   ],
   "source": [
    "def write_a_list_to_a_file(filename,data_list):\n",
    "    try:\n",
    "        with open(filename,'w') as file:\n",
    "            for item in data_list:\n",
    "                file.write(item + '\\n')\n",
    "        print(f\"data was successfully written to the {filename}\")\n",
    "    except Exception as e:\n",
    "        print(f\"Error: {e}\")\n",
    "        \n",
    "my_list = [\"Hello!\", \"How are YOU?\", \"This is text file\"]\n",
    "write_a_list_to_a_file(\"output_for_5.txt\",my_list)"
   ]
  },
  {
   "cell_type": "code",
   "execution_count": 11,
   "metadata": {},
   "outputs": [
    {
     "name": "stdout",
     "output_type": "stream",
     "text": [
      "A.txt created successfully!\n",
      "B.txt created successfully!\n",
      "C.txt created successfully!\n",
      "D.txt created successfully!\n",
      "E.txt created successfully!\n",
      "F.txt created successfully!\n",
      "G.txt created successfully!\n",
      "H.txt created successfully!\n",
      "I.txt created successfully!\n",
      "J.txt created successfully!\n",
      "K.txt created successfully!\n",
      "L.txt created successfully!\n",
      "M.txt created successfully!\n",
      "N.txt created successfully!\n",
      "O.txt created successfully!\n",
      "P.txt created successfully!\n",
      "Q.txt created successfully!\n",
      "R.txt created successfully!\n",
      "S.txt created successfully!\n",
      "T.txt created successfully!\n",
      "U.txt created successfully!\n",
      "V.txt created successfully!\n",
      "W.txt created successfully!\n",
      "X.txt created successfully!\n",
      "Y.txt created successfully!\n",
      "Z.txt created successfully!\n"
     ]
    }
   ],
   "source": [
    "import string\n",
    "\n",
    "def create_files():\n",
    "    for letter in string.ascii_uppercase:\n",
    "        filename = f\"{letter}.txt\"\n",
    "        with open(filename,'w') as file:\n",
    "            file.write(f\"file {filename}\")\n",
    "        print(f\"{filename} created successfully!\")\n",
    "create_files()"
   ]
  },
  {
   "cell_type": "code",
   "execution_count": 12,
   "metadata": {},
   "outputs": [
    {
     "name": "stdout",
     "output_type": "stream",
     "text": [
      "The contents of source.txt have been successfully copied to destination.txt\n"
     ]
    }
   ],
   "source": [
    "def copy_file_contents(source_file, destination_file):\n",
    "    try:\n",
    "        with open(source_file, 'r') as src_file:\n",
    "            content = src_file.read()\n",
    "\n",
    "        with open(destination_file, 'a') as dest_file:\n",
    "            dest_file.write(content)\n",
    "        \n",
    "        print(f\"The contents of {source_file} have been successfully copied to {destination_file}\")\n",
    "    \n",
    "    except FileNotFoundError:\n",
    "        print(f\"Error: {source_file} not found!\")\n",
    "    except Exception as e:\n",
    "        print(f\"Error: {e}\")\n",
    "\n",
    "source_filename = \"source.txt\"\n",
    "destination_filename = \"destination.txt\"\n",
    "\n",
    "copy_file_contents(source_filename, destination_filename)"
   ]
  },
  {
   "cell_type": "code",
   "execution_count": 14,
   "metadata": {},
   "outputs": [
    {
     "name": "stdout",
     "output_type": "stream",
     "text": [
      "File C:\\Users\\ayatj\\OneDrive\\Desktop\\PP\\labs\\lab6\\examplefor8.txt has been successfully deleted.\n"
     ]
    }
   ],
   "source": [
    "def delete_file(path):\n",
    "    if not os.path.exists(path):\n",
    "        print(f\"Error: {path} does not exist!\")\n",
    "        return\n",
    "    \n",
    "    if not os.path.isfile(path):\n",
    "        print(f\"Error: {path} is not a file!\")\n",
    "        return\n",
    "    \n",
    "    if os.access(path, os.W_OK):\n",
    "        try:\n",
    "            os.remove(path)\n",
    "            print(f\"File {path} has been successfully deleted.\")\n",
    "        except Exception as e:\n",
    "            print(f\"Error deleting file: {e}\")\n",
    "    else:\n",
    "        print(f\"Error: No permission to delete {path}.\")\n",
    "\n",
    "file_path = input(\"Enter the file path to delete: \")\n",
    "delete_file(file_path)\n"
   ]
  },
  {
   "cell_type": "code",
   "execution_count": null,
   "metadata": {},
   "outputs": [],
   "source": []
  }
 ],
 "metadata": {
  "kernelspec": {
   "display_name": "Python 3",
   "language": "python",
   "name": "python3"
  },
  "language_info": {
   "codemirror_mode": {
    "name": "ipython",
    "version": 3
   },
   "file_extension": ".py",
   "mimetype": "text/x-python",
   "name": "python",
   "nbconvert_exporter": "python",
   "pygments_lexer": "ipython3",
   "version": "3.11.5"
  }
 },
 "nbformat": 4,
 "nbformat_minor": 2
}
