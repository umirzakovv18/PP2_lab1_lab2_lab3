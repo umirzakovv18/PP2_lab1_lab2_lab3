{
 "cells": [
  {
   "cell_type": "code",
   "execution_count": 2,
   "metadata": {},
   "outputs": [
    {
     "name": "stdout",
     "output_type": "stream",
     "text": [
      "120\n"
     ]
    }
   ],
   "source": [
    "from functools import reduce\n",
    "\n",
    "numbers = [1, 2, 3, 4, 5]\n",
    "\n",
    "result = reduce(lambda x, y: x * y, numbers)\n",
    "\n",
    "print(result)"
   ]
  },
  {
   "cell_type": "code",
   "execution_count": 3,
   "metadata": {},
   "outputs": [
    {
     "name": "stdout",
     "output_type": "stream",
     "text": [
      "number of upper case letters: 5\n",
      "number of lower case letters: 3\n"
     ]
    }
   ],
   "source": [
    "input_string = input(\"Enter your string: \")\n",
    "\n",
    "upper_count = 0\n",
    "lower_count = 0\n",
    "\n",
    "for char in input_string:\n",
    "    if char.isupper():\n",
    "        upper_count += 1\n",
    "    elif char.islower():\n",
    "        lower_count += 1\n",
    "\n",
    "print(f\"number of upper case letters: {upper_count}\")\n",
    "print(f\"number of lower case letters: {lower_count}\")"
   ]
  },
  {
   "cell_type": "code",
   "execution_count": 4,
   "metadata": {},
   "outputs": [
    {
     "name": "stdout",
     "output_type": "stream",
     "text": [
      "123321\n",
      "\n",
      "is Palindrome.\n"
     ]
    }
   ],
   "source": [
    "input_string = input(\"Enter your string: \")\n",
    "\n",
    "print(f\"{input_string}\\n\")\n",
    "clean_string = input_string.replace(\" \", \"\").lower()\n",
    "\n",
    "if clean_string == ''.join(reversed(clean_string)):\n",
    "    print(\"is Palindrome.\")\n",
    "else:\n",
    "    print(\"is NOT Palindrome.\")"
   ]
  },
  {
   "cell_type": "code",
   "execution_count": 5,
   "metadata": {},
   "outputs": [
    {
     "name": "stdout",
     "output_type": "stream",
     "text": [
      "Square root of 250 after 15 milliseconds is 15.811388300841896\n"
     ]
    }
   ],
   "source": [
    "import time\n",
    "import math\n",
    "\n",
    "number = int(input(\"Enter a number: \"))\n",
    "milliseconds = int(input(\"Enter time in milliseconds: \"))\n",
    "\n",
    "time.sleep(milliseconds / 1000)\n",
    "\n",
    "result = math.sqrt(number)\n",
    "\n",
    "print(f\"Square root of {number} after {milliseconds} milliseconds is {result}\")"
   ]
  },
  {
   "cell_type": "code",
   "execution_count": 6,
   "metadata": {},
   "outputs": [
    {
     "name": "stdout",
     "output_type": "stream",
     "text": [
      "True\n"
     ]
    }
   ],
   "source": [
    "input_tuple = (True, 1, \"non-empty string\", 3.5)\n",
    "\n",
    "result = all(input_tuple)\n",
    "\n",
    "print(result)"
   ]
  },
  {
   "cell_type": "code",
   "execution_count": null,
   "metadata": {},
   "outputs": [],
   "source": []
  }
 ],
 "metadata": {
  "kernelspec": {
   "display_name": "Python 3",
   "language": "python",
   "name": "python3"
  },
  "language_info": {
   "codemirror_mode": {
    "name": "ipython",
    "version": 3
   },
   "file_extension": ".py",
   "mimetype": "text/x-python",
   "name": "python",
   "nbconvert_exporter": "python",
   "pygments_lexer": "ipython3",
   "version": "3.11.5"
  }
 },
 "nbformat": 4,
 "nbformat_minor": 2
}
